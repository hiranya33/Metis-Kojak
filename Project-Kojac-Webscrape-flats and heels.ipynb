{
 "cells": [
  {
   "cell_type": "code",
   "execution_count": 1,
   "metadata": {},
   "outputs": [],
   "source": [
    "# conda install selenium \n",
    "# download chromedriver: https://sites.google.com/a/chromium.org/chromedriver/downloads      \n",
    "\n",
    "from selenium import webdriver\n",
    "from selenium.webdriver.common.keys import Keys\n",
    "import time\n",
    "import pandas as pd\n",
    "import os\n",
    "import numpy as np\n",
    "from bs4 import BeautifulSoup\n",
    "import re"
   ]
  },
  {
   "cell_type": "markdown",
   "metadata": {},
   "source": [
    "### GET ALL PAGE LINKS FOR DIFFERCT CATEGORIES\n"
   ]
  },
  {
   "cell_type": "code",
   "execution_count": 2,
   "metadata": {},
   "outputs": [],
   "source": [
    "#chromedriver = f\"{os.environ['HOME']}/.local/bin/chromedriver\" # path to the chromedriver executable\n",
    "chromedriver = \"/Users/hiranya/Downloads/chromedriver\"\n",
    "os.environ[\"webdriver.chrome.driver\"] = chromedriver\n",
    "#url for one house in king county\n",
    "driver = webdriver.Chrome(chromedriver)\n",
    "url='https://www.shoes.com/womens-sneakers/category_189'\n",
    "\n",
    "driver.get(url)\n",
    "time.sleep(1)\n",
    "for i in range(1,11):\n",
    "    driver.execute_script(f\"window.scrollTo(0, document.body.scrollHeight*{i*0.1});\")\n",
    "    time.sleep(0.1)"
   ]
  },
  {
   "cell_type": "code",
   "execution_count": 85,
   "metadata": {},
   "outputs": [],
   "source": [
    "images = driver.find_elements_by_xpath('//a[@class=\"pt_thumb_link \"]/img')"
   ]
  },
  {
   "cell_type": "code",
   "execution_count": 65,
   "metadata": {},
   "outputs": [],
   "source": [
    "images = driver.find_elements_by_xpath('//img[@width=\"100%\"]')"
   ]
  },
  {
   "cell_type": "code",
   "execution_count": 77,
   "metadata": {},
   "outputs": [
    {
     "data": {
      "text/plain": [
       "36"
      ]
     },
     "execution_count": 77,
     "metadata": {},
     "output_type": "execute_result"
    }
   ],
   "source": [
    "len(images)"
   ]
  },
  {
   "cell_type": "code",
   "execution_count": 3,
   "metadata": {},
   "outputs": [],
   "source": [
    "def get_img_tags(url):\n",
    "    links=[]\n",
    "    for i in driver.find_elements_by_xpath('//a[@class=\"pt_thumb_link \"]/img'):\n",
    "        links.append(i.get_attribute('src'))\n",
    "    return links"
   ]
  },
  {
   "cell_type": "code",
   "execution_count": 4,
   "metadata": {},
   "outputs": [],
   "source": [
    "def get_shoe_pg(url):\n",
    "    shoe_l=[]\n",
    "    for i in driver.find_elements_by_xpath('//a[@class=\"pt_link\"]'):\n",
    "        shoe_l.append(i.get_attribute('href'))\n",
    "    return shoe_l"
   ]
  },
  {
   "cell_type": "code",
   "execution_count": 5,
   "metadata": {},
   "outputs": [],
   "source": [
    "def get_shoe_price(url):\n",
    "    shoe_p=[]\n",
    "    for i in driver.find_elements_by_xpath('//span[@class=\"pt_price\"]'):\n",
    "        shoe_p.append(i.text)\n",
    "    return shoe_p"
   ]
  },
  {
   "cell_type": "code",
   "execution_count": 6,
   "metadata": {},
   "outputs": [],
   "source": [
    "def get_shoe_desc(url):\n",
    "    shoe_des=[]\n",
    "    for i in driver.find_elements_by_xpath('//span[@class=\"pt_title\"]'):\n",
    "        shoe_des.append(i.text)\n",
    "    return shoe_des"
   ]
  },
  {
   "cell_type": "code",
   "execution_count": 13,
   "metadata": {},
   "outputs": [
    {
     "name": "stdout",
     "output_type": "stream",
     "text": [
      "0\n"
     ]
    },
    {
     "data": {
      "text/plain": [
       "900"
      ]
     },
     "execution_count": 13,
     "metadata": {},
     "output_type": "execute_result"
    }
   ],
   "source": [
    "#check none tags\n",
    "c=0\n",
    "ind = 0\n",
    "for i in itags_flats: \n",
    "    if i == None:\n",
    "        c=c+1\n",
    "        print(ind)\n",
    "    ind=ind+1\n",
    "print(c)\n",
    "len(itags_flats)"
   ]
  },
  {
   "cell_type": "code",
   "execution_count": 14,
   "metadata": {},
   "outputs": [],
   "source": [
    "len_im=[len(itags_flats)]\n",
    "count_l=[]\n",
    "\n",
    "for i in [itags_flats]:\n",
    "    count=0\n",
    "    for j in i:\n",
    "        if j==None:\n",
    "            count+=1\n",
    "    count_l.append(count)"
   ]
  },
  {
   "cell_type": "code",
   "execution_count": 16,
   "metadata": {
    "scrolled": true
   },
   "outputs": [
    {
     "data": {
      "text/plain": [
       "[900]"
      ]
     },
     "execution_count": 16,
     "metadata": {},
     "output_type": "execute_result"
    }
   ],
   "source": [
    "li=[]\n",
    "for i in range(1):\n",
    "    li.append(len_im[i]-count_l[i])\n",
    "li"
   ]
  },
  {
   "cell_type": "code",
   "execution_count": 171,
   "metadata": {},
   "outputs": [],
   "source": [
    "### COLLECT DATA FOR 3 MORE CATEGORIES"
   ]
  },
  {
   "cell_type": "markdown",
   "metadata": {},
   "source": [
    "### Collect flats "
   ]
  },
  {
   "cell_type": "code",
   "execution_count": 8,
   "metadata": {},
   "outputs": [],
   "source": [
    "\n",
    "def get_url_flats(page):\n",
    "    if page == 1:\n",
    "        return 'https://www.shoes.com/womens-flats/category_239'\n",
    "    return f'https://www.shoes.com/womens-flats/category_239?page={page}'"
   ]
  },
  {
   "cell_type": "code",
   "execution_count": 11,
   "metadata": {},
   "outputs": [],
   "source": [
    "page = 1\n",
    "itags_flats=[]\n",
    "shoe_descs_flats=[]\n",
    "shoe_pages_flats=[]\n",
    "prices_flats=[]\n",
    "while page < 26:\n",
    "    url = get_url_flats(page)\n",
    "    try:\n",
    "        driver = webdriver.Chrome(chromedriver)\n",
    "        driver.get(url)\n",
    "        time.sleep(2)\n",
    "        for i in range(1,11):\n",
    "            driver.execute_script(f\"window.scrollTo(0, document.body.scrollHeight*{i*0.1});\")\n",
    "            time.sleep(0.2)\n",
    "    except:\n",
    "        # out of pages!\n",
    "        break\n",
    "    #list_of_tables.append(pd.read_html(driver.page_source)[5])\n",
    "    itag_flats=get_img_tags(url)\n",
    "    itags_flats.extend((itag_flats))\n",
    "    shoe_desc_flats=get_shoe_desc(url)\n",
    "    shoe_descs_flats.extend((shoe_desc_flats))\n",
    "    price_flats=get_shoe_price(url)\n",
    "    prices_flats.extend((price_flats))\n",
    "    shoe_page_flats=get_shoe_pg(url)\n",
    "    shoe_pages_flats.extend((shoe_page_flats))\n",
    "    \n",
    "    page = page + 1\n",
    "    driver.close()"
   ]
  },
  {
   "cell_type": "code",
   "execution_count": 17,
   "metadata": {},
   "outputs": [],
   "source": [
    "#labels for ll images\n",
    "sn_fl=['flats']*li[0]\n",
    "#b_la=['boots']*li[1]\n",
    "#sa_la=['sandals']*li[2]"
   ]
  },
  {
   "cell_type": "code",
   "execution_count": 18,
   "metadata": {},
   "outputs": [],
   "source": [
    "data_fl=pd.DataFrame({'image_url':itags_flats,'page_url':shoe_pages_flats,\\\n",
    "                  'description':shoe_descs_flats,'price': prices_flats})"
   ]
  },
  {
   "cell_type": "code",
   "execution_count": 19,
   "metadata": {},
   "outputs": [],
   "source": [
    "def func(x):\n",
    "    return float(x.split()[0].replace('$','').replace(',',''))"
   ]
  },
  {
   "cell_type": "code",
   "execution_count": 20,
   "metadata": {},
   "outputs": [],
   "source": [
    "data_fl['price']=data_fl['price'].apply(func)"
   ]
  },
  {
   "cell_type": "code",
   "execution_count": 22,
   "metadata": {},
   "outputs": [
    {
     "name": "stdout",
     "output_type": "stream",
     "text": [
      "<class 'pandas.core.frame.DataFrame'>\n",
      "RangeIndex: 900 entries, 0 to 899\n",
      "Data columns (total 4 columns):\n",
      "image_url      900 non-null object\n",
      "page_url       900 non-null object\n",
      "description    900 non-null object\n",
      "price          900 non-null float64\n",
      "dtypes: float64(1), object(3)\n",
      "memory usage: 28.2+ KB\n"
     ]
    }
   ],
   "source": [
    "data_fl.info()"
   ]
  },
  {
   "cell_type": "code",
   "execution_count": 23,
   "metadata": {},
   "outputs": [],
   "source": [
    "data_fl.dropna(inplace=True)\n",
    "data_fl.reset_index(drop=True, inplace=True)"
   ]
  },
  {
   "cell_type": "code",
   "execution_count": 24,
   "metadata": {},
   "outputs": [
    {
     "data": {
      "text/html": [
       "<div>\n",
       "<style scoped>\n",
       "    .dataframe tbody tr th:only-of-type {\n",
       "        vertical-align: middle;\n",
       "    }\n",
       "\n",
       "    .dataframe tbody tr th {\n",
       "        vertical-align: top;\n",
       "    }\n",
       "\n",
       "    .dataframe thead th {\n",
       "        text-align: right;\n",
       "    }\n",
       "</style>\n",
       "<table border=\"1\" class=\"dataframe\">\n",
       "  <thead>\n",
       "    <tr style=\"text-align: right;\">\n",
       "      <th></th>\n",
       "      <th>image_url</th>\n",
       "      <th>page_url</th>\n",
       "      <th>description</th>\n",
       "      <th>price</th>\n",
       "    </tr>\n",
       "  </thead>\n",
       "  <tbody>\n",
       "    <tr>\n",
       "      <th>0</th>\n",
       "      <td>https://cdn-us-ec.yottaa.net/550c587c2106b06b5...</td>\n",
       "      <td>https://www.shoes.com/naturalizer-emiline-loaf...</td>\n",
       "      <td>Naturalizer Emiline Loafer (Women's)</td>\n",
       "      <td>59.95</td>\n",
       "    </tr>\n",
       "    <tr>\n",
       "      <th>1</th>\n",
       "      <td>https://cdn-us-ec.yottaa.net/550c587c2106b06b5...</td>\n",
       "      <td>https://www.shoes.com/clarks-ashland-bubble/69...</td>\n",
       "      <td>Clarks Ashland Bubble (Women's)</td>\n",
       "      <td>57.95</td>\n",
       "    </tr>\n",
       "    <tr>\n",
       "      <th>2</th>\n",
       "      <td>https://cdn-us-ec.yottaa.net/550c587c2106b06b5...</td>\n",
       "      <td>https://www.shoes.com/sam-edelman-loraine-hors...</td>\n",
       "      <td>Sam Edelman Loraine Horsebit Loafer (Women's)</td>\n",
       "      <td>84.95</td>\n",
       "    </tr>\n",
       "    <tr>\n",
       "      <th>3</th>\n",
       "      <td>https://cdn-us-ec.yottaa.net/550c587c2106b06b5...</td>\n",
       "      <td>https://www.shoes.com/rockport-cobb-hill-paule...</td>\n",
       "      <td>Rockport Cobb Hill Paulette (Women's)</td>\n",
       "      <td>79.99</td>\n",
       "    </tr>\n",
       "    <tr>\n",
       "      <th>4</th>\n",
       "      <td>https://cdn-us-ec.yottaa.net/550c587c2106b06b5...</td>\n",
       "      <td>https://www.shoes.com/skechers-gowalk-lite-ski...</td>\n",
       "      <td>Skechers GOwalk Lite Skimmer (Women's)</td>\n",
       "      <td>49.95</td>\n",
       "    </tr>\n",
       "  </tbody>\n",
       "</table>\n",
       "</div>"
      ],
      "text/plain": [
       "                                           image_url  \\\n",
       "0  https://cdn-us-ec.yottaa.net/550c587c2106b06b5...   \n",
       "1  https://cdn-us-ec.yottaa.net/550c587c2106b06b5...   \n",
       "2  https://cdn-us-ec.yottaa.net/550c587c2106b06b5...   \n",
       "3  https://cdn-us-ec.yottaa.net/550c587c2106b06b5...   \n",
       "4  https://cdn-us-ec.yottaa.net/550c587c2106b06b5...   \n",
       "\n",
       "                                            page_url  \\\n",
       "0  https://www.shoes.com/naturalizer-emiline-loaf...   \n",
       "1  https://www.shoes.com/clarks-ashland-bubble/69...   \n",
       "2  https://www.shoes.com/sam-edelman-loraine-hors...   \n",
       "3  https://www.shoes.com/rockport-cobb-hill-paule...   \n",
       "4  https://www.shoes.com/skechers-gowalk-lite-ski...   \n",
       "\n",
       "                                     description  price  \n",
       "0           Naturalizer Emiline Loafer (Women's)  59.95  \n",
       "1                Clarks Ashland Bubble (Women's)  57.95  \n",
       "2  Sam Edelman Loraine Horsebit Loafer (Women's)  84.95  \n",
       "3          Rockport Cobb Hill Paulette (Women's)  79.99  \n",
       "4         Skechers GOwalk Lite Skimmer (Women's)  49.95  "
      ]
     },
     "execution_count": 24,
     "metadata": {},
     "output_type": "execute_result"
    }
   ],
   "source": [
    "data_fl.head()"
   ]
  },
  {
   "cell_type": "code",
   "execution_count": 25,
   "metadata": {},
   "outputs": [],
   "source": [
    "#save images to local directory\n",
    "import urllib.request\n",
    "import os\n",
    "os.mkdir('shoe_images_fl')\n",
    "for i in range(len(data_fl)):\n",
    "    urllib.request.urlretrieve(data_fl.loc[i,'image_url'], \"shoe_images_fl/\"+str(data_fl.loc[i,'page_url']).replace('/','_')+\\\n",
    "                               '_'+str(i)+'.jpg')\n"
   ]
  },
  {
   "cell_type": "code",
   "execution_count": 26,
   "metadata": {},
   "outputs": [],
   "source": [
    "data_fl['label']=sn_fl"
   ]
  },
  {
   "cell_type": "code",
   "execution_count": 27,
   "metadata": {},
   "outputs": [],
   "source": [
    "#get image path for all images \n",
    "for i in range(len(data_fl)) :  \n",
    "    data_fl.loc[i,'image_path']=\"shoe_images_fl/\"+str(data_fl.loc[i,'page_url']).replace('/','_')+\\\n",
    "                                   '_'+str(i)+'.jpg'"
   ]
  },
  {
   "cell_type": "code",
   "execution_count": 28,
   "metadata": {},
   "outputs": [
    {
     "data": {
      "text/html": [
       "<div>\n",
       "<style scoped>\n",
       "    .dataframe tbody tr th:only-of-type {\n",
       "        vertical-align: middle;\n",
       "    }\n",
       "\n",
       "    .dataframe tbody tr th {\n",
       "        vertical-align: top;\n",
       "    }\n",
       "\n",
       "    .dataframe thead th {\n",
       "        text-align: right;\n",
       "    }\n",
       "</style>\n",
       "<table border=\"1\" class=\"dataframe\">\n",
       "  <thead>\n",
       "    <tr style=\"text-align: right;\">\n",
       "      <th></th>\n",
       "      <th>image_url</th>\n",
       "      <th>page_url</th>\n",
       "      <th>description</th>\n",
       "      <th>price</th>\n",
       "      <th>label</th>\n",
       "      <th>image_path</th>\n",
       "    </tr>\n",
       "  </thead>\n",
       "  <tbody>\n",
       "    <tr>\n",
       "      <th>0</th>\n",
       "      <td>https://cdn-us-ec.yottaa.net/550c587c2106b06b5...</td>\n",
       "      <td>https://www.shoes.com/naturalizer-emiline-loaf...</td>\n",
       "      <td>Naturalizer Emiline Loafer (Women's)</td>\n",
       "      <td>59.95</td>\n",
       "      <td>flats</td>\n",
       "      <td>shoe_images_fl/https:__www.shoes.com_naturaliz...</td>\n",
       "    </tr>\n",
       "    <tr>\n",
       "      <th>1</th>\n",
       "      <td>https://cdn-us-ec.yottaa.net/550c587c2106b06b5...</td>\n",
       "      <td>https://www.shoes.com/clarks-ashland-bubble/69...</td>\n",
       "      <td>Clarks Ashland Bubble (Women's)</td>\n",
       "      <td>57.95</td>\n",
       "      <td>flats</td>\n",
       "      <td>shoe_images_fl/https:__www.shoes.com_clarks-as...</td>\n",
       "    </tr>\n",
       "    <tr>\n",
       "      <th>2</th>\n",
       "      <td>https://cdn-us-ec.yottaa.net/550c587c2106b06b5...</td>\n",
       "      <td>https://www.shoes.com/sam-edelman-loraine-hors...</td>\n",
       "      <td>Sam Edelman Loraine Horsebit Loafer (Women's)</td>\n",
       "      <td>84.95</td>\n",
       "      <td>flats</td>\n",
       "      <td>shoe_images_fl/https:__www.shoes.com_sam-edelm...</td>\n",
       "    </tr>\n",
       "    <tr>\n",
       "      <th>3</th>\n",
       "      <td>https://cdn-us-ec.yottaa.net/550c587c2106b06b5...</td>\n",
       "      <td>https://www.shoes.com/rockport-cobb-hill-paule...</td>\n",
       "      <td>Rockport Cobb Hill Paulette (Women's)</td>\n",
       "      <td>79.99</td>\n",
       "      <td>flats</td>\n",
       "      <td>shoe_images_fl/https:__www.shoes.com_rockport-...</td>\n",
       "    </tr>\n",
       "    <tr>\n",
       "      <th>4</th>\n",
       "      <td>https://cdn-us-ec.yottaa.net/550c587c2106b06b5...</td>\n",
       "      <td>https://www.shoes.com/skechers-gowalk-lite-ski...</td>\n",
       "      <td>Skechers GOwalk Lite Skimmer (Women's)</td>\n",
       "      <td>49.95</td>\n",
       "      <td>flats</td>\n",
       "      <td>shoe_images_fl/https:__www.shoes.com_skechers-...</td>\n",
       "    </tr>\n",
       "  </tbody>\n",
       "</table>\n",
       "</div>"
      ],
      "text/plain": [
       "                                           image_url  \\\n",
       "0  https://cdn-us-ec.yottaa.net/550c587c2106b06b5...   \n",
       "1  https://cdn-us-ec.yottaa.net/550c587c2106b06b5...   \n",
       "2  https://cdn-us-ec.yottaa.net/550c587c2106b06b5...   \n",
       "3  https://cdn-us-ec.yottaa.net/550c587c2106b06b5...   \n",
       "4  https://cdn-us-ec.yottaa.net/550c587c2106b06b5...   \n",
       "\n",
       "                                            page_url  \\\n",
       "0  https://www.shoes.com/naturalizer-emiline-loaf...   \n",
       "1  https://www.shoes.com/clarks-ashland-bubble/69...   \n",
       "2  https://www.shoes.com/sam-edelman-loraine-hors...   \n",
       "3  https://www.shoes.com/rockport-cobb-hill-paule...   \n",
       "4  https://www.shoes.com/skechers-gowalk-lite-ski...   \n",
       "\n",
       "                                     description  price  label  \\\n",
       "0           Naturalizer Emiline Loafer (Women's)  59.95  flats   \n",
       "1                Clarks Ashland Bubble (Women's)  57.95  flats   \n",
       "2  Sam Edelman Loraine Horsebit Loafer (Women's)  84.95  flats   \n",
       "3          Rockport Cobb Hill Paulette (Women's)  79.99  flats   \n",
       "4         Skechers GOwalk Lite Skimmer (Women's)  49.95  flats   \n",
       "\n",
       "                                          image_path  \n",
       "0  shoe_images_fl/https:__www.shoes.com_naturaliz...  \n",
       "1  shoe_images_fl/https:__www.shoes.com_clarks-as...  \n",
       "2  shoe_images_fl/https:__www.shoes.com_sam-edelm...  \n",
       "3  shoe_images_fl/https:__www.shoes.com_rockport-...  \n",
       "4  shoe_images_fl/https:__www.shoes.com_skechers-...  "
      ]
     },
     "execution_count": 28,
     "metadata": {},
     "output_type": "execute_result"
    }
   ],
   "source": [
    "data_fl.head()"
   ]
  },
  {
   "cell_type": "code",
   "execution_count": 29,
   "metadata": {},
   "outputs": [],
   "source": [
    "data_fl.to_csv('data_fl.csv',sep=',',header=True,index=False)"
   ]
  },
  {
   "cell_type": "code",
   "execution_count": 30,
   "metadata": {},
   "outputs": [
    {
     "data": {
      "text/plain": [
       "image_url      https://cdn-us-ec.yottaa.net/550c587c2106b06b5...\n",
       "page_url       https://www.shoes.com/softwalk-sicily-flat/859721\n",
       "description                       SoftWalk Sicily Flat (Women's)\n",
       "price                                                      99.95\n",
       "label                                                      flats\n",
       "image_path     shoe_images_fl/https:__www.shoes.com_softwalk-...\n",
       "Name: 800, dtype: object"
      ]
     },
     "execution_count": 30,
     "metadata": {},
     "output_type": "execute_result"
    }
   ],
   "source": [
    "data_fl.loc[800,:]"
   ]
  }
 ],
 "metadata": {
  "kernelspec": {
   "display_name": "Python 3",
   "language": "python",
   "name": "python3"
  },
  "language_info": {
   "codemirror_mode": {
    "name": "ipython",
    "version": 3
   },
   "file_extension": ".py",
   "mimetype": "text/x-python",
   "name": "python",
   "nbconvert_exporter": "python",
   "pygments_lexer": "ipython3",
   "version": "3.6.6"
  }
 },
 "nbformat": 4,
 "nbformat_minor": 2
}
